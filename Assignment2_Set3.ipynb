{
 "cells": [
  {
   "cell_type": "markdown",
   "id": "b8d2ffe3",
   "metadata": {},
   "source": [
    "# Q4"
   ]
  },
  {
   "cell_type": "code",
   "execution_count": 1,
   "id": "de7e1480",
   "metadata": {},
   "outputs": [
    {
     "data": {
      "text/plain": [
       "0.5"
      ]
     },
     "execution_count": 1,
     "metadata": {},
     "output_type": "execute_result"
    }
   ],
   "source": [
    "from scipy import stats\n",
    "stats.norm.cdf(0,0,1)"
   ]
  },
  {
   "cell_type": "markdown",
   "id": "0ac3361b",
   "metadata": {},
   "source": [
    "# Q5"
   ]
  },
  {
   "cell_type": "code",
   "execution_count": 8,
   "id": "ca800465",
   "metadata": {},
   "outputs": [
    {
     "data": {
      "text/plain": [
       "0.2057"
      ]
     },
     "execution_count": 8,
     "metadata": {},
     "output_type": "execute_result"
    }
   ],
   "source": [
    "p_val=stats.norm.cdf(-0.8213,0,1)\n",
    "round(p_val,4)"
   ]
  },
  {
   "cell_type": "markdown",
   "id": "a61ee968",
   "metadata": {},
   "source": [
    "# Q8"
   ]
  },
  {
   "cell_type": "code",
   "execution_count": 23,
   "id": "304e24e7",
   "metadata": {},
   "outputs": [
    {
     "data": {
      "text/plain": [
       "-1.96"
      ]
     },
     "execution_count": 23,
     "metadata": {},
     "output_type": "execute_result"
    }
   ],
   "source": [
    "round(stats.norm.ppf(0.025),4)"
   ]
  },
  {
   "cell_type": "code",
   "execution_count": 25,
   "id": "6bdc2179",
   "metadata": {},
   "outputs": [
    {
     "data": {
      "text/plain": [
       "600.25"
      ]
     },
     "execution_count": 25,
     "metadata": {},
     "output_type": "execute_result"
    }
   ],
   "source": [
    "n=pow((1.96/0.04),2)*0.5*0.5\n",
    "n"
   ]
  },
  {
   "cell_type": "markdown",
   "id": "de9fa59c",
   "metadata": {},
   "source": [
    "# Q9"
   ]
  },
  {
   "cell_type": "code",
   "execution_count": 30,
   "id": "067d5542",
   "metadata": {},
   "outputs": [
    {
     "data": {
      "text/plain": [
       "-2.3263"
      ]
     },
     "execution_count": 30,
     "metadata": {},
     "output_type": "execute_result"
    }
   ],
   "source": [
    "round(stats.norm.ppf(0.01),4)"
   ]
  },
  {
   "cell_type": "code",
   "execution_count": 33,
   "id": "d33d43a8",
   "metadata": {},
   "outputs": [
    {
     "data": {
      "text/plain": [
       "845.5737015624998"
      ]
     },
     "execution_count": 33,
     "metadata": {},
     "output_type": "execute_result"
    }
   ],
   "source": [
    "n=pow((2.3263/0.04),2)*0.5*0.5\n",
    "n"
   ]
  }
 ],
 "metadata": {
  "kernelspec": {
   "display_name": "Python 3",
   "language": "python",
   "name": "python3"
  },
  "language_info": {
   "codemirror_mode": {
    "name": "ipython",
    "version": 3
   },
   "file_extension": ".py",
   "mimetype": "text/x-python",
   "name": "python",
   "nbconvert_exporter": "python",
   "pygments_lexer": "ipython3",
   "version": "3.8.8"
  }
 },
 "nbformat": 4,
 "nbformat_minor": 5
}
