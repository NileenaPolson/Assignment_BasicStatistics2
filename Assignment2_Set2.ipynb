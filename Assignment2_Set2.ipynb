{
 "cells": [
  {
   "cell_type": "markdown",
   "id": "c9e6fe9e",
   "metadata": {},
   "source": [
    "# Q1"
   ]
  },
  {
   "cell_type": "code",
   "execution_count": 32,
   "id": "eb2c6ec2",
   "metadata": {},
   "outputs": [
    {
     "data": {
      "text/plain": [
       "0.266"
      ]
     },
     "execution_count": 32,
     "metadata": {},
     "output_type": "execute_result"
    }
   ],
   "source": [
    "from scipy import stats\n",
    "import numpy as np\n",
    "np.round(1-stats.norm.cdf(5/8,0,1),4)"
   ]
  },
  {
   "cell_type": "markdown",
   "id": "b5a3f8fe",
   "metadata": {},
   "source": [
    "# Q2_a"
   ]
  },
  {
   "cell_type": "code",
   "execution_count": 38,
   "id": "f9576da9",
   "metadata": {},
   "outputs": [
    {
     "data": {
      "text/plain": [
       "0.1587"
      ]
     },
     "execution_count": 38,
     "metadata": {},
     "output_type": "execute_result"
    }
   ],
   "source": [
    "# AGE OF EMPLOYEE > 44 YEARS\n",
    "from scipy import stats\n",
    "import numpy as np\n",
    "np.round((1-stats.norm.cdf(1,0,1)),4)"
   ]
  },
  {
   "cell_type": "code",
   "execution_count": 48,
   "id": "2af60004",
   "metadata": {},
   "outputs": [
    {
     "data": {
      "text/plain": [
       "0.3413"
      ]
     },
     "execution_count": 48,
     "metadata": {},
     "output_type": "execute_result"
    }
   ],
   "source": [
    "# AGE OF EMPLOYEE BETWEEN 38 AND 44 YEARS\n",
    "np.round(stats.norm.cdf(1,0,1)-stats.norm.cdf(0,0,1),4)"
   ]
  },
  {
   "cell_type": "markdown",
   "id": "70d79acd",
   "metadata": {},
   "source": [
    "# Q2_b"
   ]
  },
  {
   "cell_type": "code",
   "execution_count": 53,
   "id": "7d7ffa1a",
   "metadata": {},
   "outputs": [
    {
     "data": {
      "text/plain": [
       "0.0912"
      ]
     },
     "execution_count": 53,
     "metadata": {},
     "output_type": "execute_result"
    }
   ],
   "source": [
    "# AGE OF EMPLOYEE < 30 YEARS\n",
    "np.round(stats.norm.cdf(-8/6,0,1),4)"
   ]
  },
  {
   "cell_type": "code",
   "execution_count": 50,
   "id": "1ae79c4d",
   "metadata": {},
   "outputs": [
    {
     "data": {
      "text/plain": [
       "0.09"
      ]
     },
     "execution_count": 50,
     "metadata": {},
     "output_type": "execute_result"
    }
   ],
   "source": [
    "36/400"
   ]
  },
  {
   "cell_type": "code",
   "execution_count": 51,
   "id": "597ebbaf",
   "metadata": {},
   "outputs": [
    {
     "data": {
      "text/plain": [
       "True"
      ]
     },
     "execution_count": 51,
     "metadata": {},
     "output_type": "execute_result"
    }
   ],
   "source": [
    "np.round(stats.norm.cdf(-8/6,0,1),2)==36/400"
   ]
  },
  {
   "cell_type": "markdown",
   "id": "b5707b74",
   "metadata": {},
   "source": [
    "# Q4"
   ]
  },
  {
   "cell_type": "code",
   "execution_count": 58,
   "id": "a2cac398",
   "metadata": {},
   "outputs": [
    {
     "data": {
      "text/plain": [
       "-2.5758"
      ]
     },
     "execution_count": 58,
     "metadata": {},
     "output_type": "execute_result"
    }
   ],
   "source": [
    "from scipy import stats\n",
    "np.round(stats.norm.ppf(0.005),4)"
   ]
  },
  {
   "cell_type": "code",
   "execution_count": 59,
   "id": "5afaa5ed",
   "metadata": {},
   "outputs": [
    {
     "data": {
      "text/plain": [
       "2.5758"
      ]
     },
     "execution_count": 59,
     "metadata": {},
     "output_type": "execute_result"
    }
   ],
   "source": [
    "np.round(stats.norm.ppf(0.995),4)"
   ]
  },
  {
   "cell_type": "code",
   "execution_count": 63,
   "id": "e902cdcc",
   "metadata": {},
   "outputs": [
    {
     "data": {
      "text/plain": [
       "48.484"
      ]
     },
     "execution_count": 63,
     "metadata": {},
     "output_type": "execute_result"
    }
   ],
   "source": [
    "a=(-2.5758*20)+100\n",
    "np.round(a,4)"
   ]
  },
  {
   "cell_type": "code",
   "execution_count": 64,
   "id": "6c517114",
   "metadata": {},
   "outputs": [
    {
     "data": {
      "text/plain": [
       "151.516"
      ]
     },
     "execution_count": 64,
     "metadata": {},
     "output_type": "execute_result"
    }
   ],
   "source": [
    "b=(2.5758*20)+100\n",
    "np.round(b,4)"
   ]
  },
  {
   "cell_type": "markdown",
   "id": "2eb296be",
   "metadata": {},
   "source": [
    "# Q5_a"
   ]
  },
  {
   "cell_type": "code",
   "execution_count": 67,
   "id": "b5894121",
   "metadata": {},
   "outputs": [
    {
     "data": {
      "text/plain": [
       "-1.96"
      ]
     },
     "execution_count": 67,
     "metadata": {},
     "output_type": "execute_result"
    }
   ],
   "source": [
    "from scipy import stats\n",
    "np.round(stats.norm.ppf(0.025),4)"
   ]
  },
  {
   "cell_type": "code",
   "execution_count": 68,
   "id": "f73d0fbb",
   "metadata": {},
   "outputs": [
    {
     "data": {
      "text/plain": [
       "1.96"
      ]
     },
     "execution_count": 68,
     "metadata": {},
     "output_type": "execute_result"
    }
   ],
   "source": [
    "np.round(stats.norm.ppf(0.975),4)"
   ]
  },
  {
   "cell_type": "code",
   "execution_count": 73,
   "id": "caab62ea",
   "metadata": {},
   "outputs": [
    {
     "data": {
      "text/plain": [
       "2.2"
      ]
     },
     "execution_count": 73,
     "metadata": {},
     "output_type": "execute_result"
    }
   ],
   "source": [
    "a=-1.96*5+12\n",
    "np.round(a,4)"
   ]
  },
  {
   "cell_type": "code",
   "execution_count": 80,
   "id": "c22f348f",
   "metadata": {},
   "outputs": [
    {
     "data": {
      "text/plain": [
       "99.0"
      ]
     },
     "execution_count": 80,
     "metadata": {},
     "output_type": "execute_result"
    }
   ],
   "source": [
    "round(2.2*45,4)"
   ]
  },
  {
   "cell_type": "code",
   "execution_count": 76,
   "id": "2c39c7a3",
   "metadata": {},
   "outputs": [
    {
     "data": {
      "text/plain": [
       "21.8"
      ]
     },
     "execution_count": 76,
     "metadata": {},
     "output_type": "execute_result"
    }
   ],
   "source": [
    "b=1.96*5+12\n",
    "np.round(b,4)"
   ]
  },
  {
   "cell_type": "code",
   "execution_count": 81,
   "id": "287bc188",
   "metadata": {},
   "outputs": [
    {
     "data": {
      "text/plain": [
       "981.0"
      ]
     },
     "execution_count": 81,
     "metadata": {},
     "output_type": "execute_result"
    }
   ],
   "source": [
    "round(21.8*45,4)"
   ]
  },
  {
   "cell_type": "markdown",
   "id": "c391c66a",
   "metadata": {},
   "source": [
    "# Q5_b"
   ]
  },
  {
   "cell_type": "code",
   "execution_count": 84,
   "id": "bd6d19a2",
   "metadata": {},
   "outputs": [
    {
     "data": {
      "text/plain": [
       "-1.6449"
      ]
     },
     "execution_count": 84,
     "metadata": {},
     "output_type": "execute_result"
    }
   ],
   "source": [
    "from scipy import stats\n",
    "round(stats.norm.ppf(0.05),4)"
   ]
  },
  {
   "cell_type": "code",
   "execution_count": 87,
   "id": "5ff0ab02",
   "metadata": {},
   "outputs": [
    {
     "data": {
      "text/plain": [
       "3.7755"
      ]
     },
     "execution_count": 87,
     "metadata": {},
     "output_type": "execute_result"
    }
   ],
   "source": [
    "a=-1.6449*5+12\n",
    "round(a,4)"
   ]
  },
  {
   "cell_type": "code",
   "execution_count": 88,
   "id": "2ee5e9c4",
   "metadata": {},
   "outputs": [
    {
     "data": {
      "text/plain": [
       "169.8975"
      ]
     },
     "execution_count": 88,
     "metadata": {},
     "output_type": "execute_result"
    }
   ],
   "source": [
    "3.7755*45"
   ]
  },
  {
   "cell_type": "markdown",
   "id": "a1834de0",
   "metadata": {},
   "source": [
    "# Q5_c"
   ]
  },
  {
   "cell_type": "code",
   "execution_count": 90,
   "id": "c40e70bf",
   "metadata": {},
   "outputs": [
    {
     "data": {
      "text/plain": [
       "0.0478"
      ]
     },
     "execution_count": 90,
     "metadata": {},
     "output_type": "execute_result"
    }
   ],
   "source": [
    "#Profit of division 1\n",
    "round(stats.norm.cdf(-5/3,0,1),4)"
   ]
  },
  {
   "cell_type": "code",
   "execution_count": 91,
   "id": "20dd3644",
   "metadata": {},
   "outputs": [
    {
     "data": {
      "text/plain": [
       "0.0401"
      ]
     },
     "execution_count": 91,
     "metadata": {},
     "output_type": "execute_result"
    }
   ],
   "source": [
    "#Profit of divison 2\n",
    "round(stats.norm.cdf(-7/4,0,1),4)"
   ]
  }
 ],
 "metadata": {
  "kernelspec": {
   "display_name": "Python 3",
   "language": "python",
   "name": "python3"
  },
  "language_info": {
   "codemirror_mode": {
    "name": "ipython",
    "version": 3
   },
   "file_extension": ".py",
   "mimetype": "text/x-python",
   "name": "python",
   "nbconvert_exporter": "python",
   "pygments_lexer": "ipython3",
   "version": "3.8.8"
  }
 },
 "nbformat": 4,
 "nbformat_minor": 5
}
